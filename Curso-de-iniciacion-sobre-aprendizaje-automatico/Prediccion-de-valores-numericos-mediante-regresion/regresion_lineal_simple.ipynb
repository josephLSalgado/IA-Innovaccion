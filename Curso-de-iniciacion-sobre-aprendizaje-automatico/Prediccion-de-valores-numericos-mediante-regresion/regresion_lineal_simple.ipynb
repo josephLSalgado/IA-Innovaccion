{
  "nbformat": 4,
  "nbformat_minor": 0,
  "metadata": {
    "colab": {
      "name": "regresion_lineal_simple.ipynb",
      "provenance": [],
      "authorship_tag": "ABX9TyPo1SC7d6vy57FKw54zZNTi",
      "include_colab_link": true
    },
    "kernelspec": {
      "name": "python3",
      "display_name": "Python 3"
    }
  },
  "cells": [
    {
      "cell_type": "markdown",
      "metadata": {
        "id": "view-in-github",
        "colab_type": "text"
      },
      "source": [
        "<a href=\"https://colab.research.google.com/github/josephLSalgado/IA-Innovaccion/blob/main/Curso-de-iniciacion-sobre-aprendizaje-automatico/Prediccion-de-valores-numericos-mediante-regresion/regresion_lineal_simple.ipynb\" target=\"_parent\"><img src=\"https://colab.research.google.com/assets/colab-badge.svg\" alt=\"Open In Colab\"/></a>"
      ]
    },
    {
      "cell_type": "code",
      "metadata": {
        "id": "3Ka9JabnS-f1"
      },
      "source": [
        ""
      ],
      "execution_count": null,
      "outputs": []
    }
  ]
}